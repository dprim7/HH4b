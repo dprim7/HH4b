{
 "cells": [
  {
   "cell_type": "code",
   "execution_count": null,
   "metadata": {},
   "outputs": [],
   "source": [
    "import awkward as ak\n",
    "import numpy as np\n",
    "from coffea import processor, hist\n",
    "from coffea.nanoevents import NanoEventsFactory, NanoAODSchema"
   ]
  },
  {
   "cell_type": "code",
   "execution_count": null,
   "metadata": {},
   "outputs": [],
   "source": [
    "class BoostedHH4bProcessor(processor.ProcessorABC):\n",
    "    def __init__(self):\n",
    "        self._accumulator = processor.dict_accumulator(\n",
    "            {\n",
    "                \"hist\": hist.Hist(\n",
    "                    \"Counts\",\n",
    "                    hist.Cat(\"dataset\", \"Dataset\"),\n",
    "                    hist.Bin(\"jet_pt\", \"Jet pT\", 50, 0, 1000),\n",
    "                ),\n",
    "            }\n",
    "        )\n",
    "\n",
    "    @property\n",
    "    def accumulator(self):\n",
    "        return self._accumulator\n",
    "\n",
    "    def process(self, events):\n",
    "        dataset = events.metadata[\"dataset\"]\n",
    "        jets = events.Jet\n",
    "        jets = jets[jets.pt > 200]  # Adjusted for boosted jets\n",
    "\n",
    "        btag_sorted_jets = jets[ak.argsort(jets.btag, ascending=False)]\n",
    "        selected_btag_jets = btag_sorted_jets[:, :4]\n",
    "\n",
    "        non_btag_jets = jets[~ak.isin(jets, selected_btag_jets)]\n",
    "        non_btag_sorted_jets = non_btag_jets[ak.argsort(non_btag_jets.pt, ascending=False)]\n",
    "\n",
    "        clustered_jets = self.xluster_bs(selected_btag_jets, non_btag_sorted_jets)\n",
    "\n",
    "        output = self.accumulator.identity()\n",
    "        output[\"hist\"].fill(dataset=dataset, jet_pt=ak.flatten(clustered_jets.pt))\n",
    "\n",
    "        return output\n",
    "\n",
    "    def xluster_bs(self, btag_jets, non_btag_jets):\n",
    "        # Placeholder for actual clustering logic\n",
    "        clustered_jets = btag_jets + non_btag_jets[:2]  # Simplified example logic\n",
    "        return clustered_jets\n",
    "\n",
    "    def make_synthetic_event(self, jets, pdfs):\n",
    "        while True:\n",
    "            declustered_jets = self.declustering(jets, pdfs)\n",
    "            if self.is_valid_event(declustered_jets):\n",
    "                break\n",
    "        return declustered_jets\n",
    "\n",
    "    def declustering(self, jets, pdfs):\n",
    "        # Placeholder for actual declustering logic\n",
    "        declustered_jets = jets  # Simplified example logic\n",
    "        return declustered_jets\n",
    "\n",
    "    def is_valid_event(self, jets):\n",
    "        return ak.all(jets.eta < 2.5)\n",
    "\n",
    "    def postprocess(self, accumulator):\n",
    "        return accumulator"
   ]
  }
 ],
 "metadata": {
  "kernelspec": {
   "display_name": "Python (hh4b)",
   "language": "python",
   "name": "hh4b"
  },
  "language_info": {
   "name": "python",
   "version": "3.10.14"
  }
 },
 "nbformat": 4,
 "nbformat_minor": 2
}
