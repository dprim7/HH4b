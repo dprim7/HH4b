{
 "cells": [
  {
   "cell_type": "markdown",
   "metadata": {},
   "source": [
    "# Study overlap"
   ]
  },
  {
   "cell_type": "code",
   "execution_count": 1,
   "metadata": {},
   "outputs": [],
   "source": [
    "import uproot\n",
    "import pandas as pd\n",
    "import numpy as np\n",
    "from HH4b.utils import load_samples, format_columns"
   ]
  },
  {
   "cell_type": "markdown",
   "metadata": {},
   "source": [
    "Load samples from Resolved group"
   ]
  },
  {
   "cell_type": "code",
   "execution_count": 2,
   "metadata": {},
   "outputs": [
    {
     "name": "stdout",
     "output_type": "stream",
     "text": [
      "/Users/daniel/Documents/UCSD/Research/HH4b/GluGlutoHHto4B_kl-1p00_kt-1p00_c2-0p00_TuneCP5_13p6TeV_powheg-pythia8_tree.root\n",
      "Number of raw events:  2377354\n",
      "Number of resolved dataframe entries:  2377354\n"
     ]
    },
    {
     "name": "stderr",
     "output_type": "stream",
     "text": [
      "/Users/daniel/mambaforge/envs/hh4b/lib/python3.9/site-packages/uproot/interpretation/library.py:747: FutureWarning: MultiIndex.is_integer is deprecated. Use pandas.api.types.is_integer_dtype instead.\n",
      "  if hasattr(index, \"is_integer\") and index.is_integer():\n"
     ]
    },
    {
     "name": "stdout",
     "output_type": "stream",
     "text": [
      "Number of boosted dataframe entries:  571933\n"
     ]
    },
    {
     "name": "stderr",
     "output_type": "stream",
     "text": [
      "/var/folders/w8/jgj1y4sx0mg8849sgcwfdfgh0000gn/T/ipykernel_53354/1888099954.py:100: SettingWithCopyWarning: \n",
      "A value is trying to be set on a copy of a slice from a DataFrame.\n",
      "Try using .loc[row_indexer,col_indexer] = value instead\n",
      "\n",
      "See the caveats in the documentation: https://pandas.pydata.org/pandas-docs/stable/user_guide/indexing.html#returning-a-view-versus-a-copy\n",
      "  df[\"dHiggsDeltaRegMass\"] = np.sqrt(\n"
     ]
    }
   ],
   "source": [
    "# dir = \"../../../../data/overlap/Main_PNet_MinDiag_w4j35_w2bj30_dHHjw30_withoutSyst_25April2024_2022_0L/mc/parts/\"\n",
    "dir = \"/Users/daniel/Documents/UCSD/Research/HH4b\"\n",
    "samples = {\n",
    "    \"hh4b\": \"GluGlutoHHto4B_kl-1p00_kt-1p00_c2-0p00_TuneCP5_13p6TeV_powheg-pythia8_tree.root\",\n",
    "}\n",
    "\n",
    "ak8_columns = [\n",
    "    \"ak8_pt\",\n",
    "    \"ak8_eta\",\n",
    "    \"ak8_phi\",\n",
    "    \"ak8_jetId\",\n",
    "    \"ak8_msoftdrop\",\n",
    "    \"ak8_mass\",\n",
    "    \"ak8_tau3\",\n",
    "    \"ak8_tau2\",\n",
    "    \"ak8_Txbb\",\n",
    "    \"ak8_PQCDb\",\n",
    "    \"ak8_PQCDbb\",\n",
    "    \"ak8_PQCDothers\",\n",
    "    \"ak8_particleNet_mass\",\n",
    "    # \"met\", #is this the right spot to add?\n",
    "]\n",
    "\n",
    "columns_to_load_resolved = [\n",
    "    \"passmetfilters\",\n",
    "    \"passjetvetomap\",\n",
    "    \"passTrig_HLT_QuadPFJet70_50_40_35_PFBTagParticleNet_2BTagSum0p65\",\n",
    "    \"passL1unprescaled_HLT_QuadPFJet70_50_40_35_PFBTagParticleNet_2BTagSum0p65\",\n",
    "    \"passTrigObjMatching_HLT_QuadPFJet70_50_40_35_PFBTagParticleNet_2BTagSum0p65\",\n",
    "    \"avgbdisc_twoldgbdiscjets\",\n",
    "    \"alljets_ht\",\n",
    "    \"dHH_NbtagM\",\n",
    "    \"dHH_H1_regmass\",\n",
    "    \"dHH_H2_regmass\",\n",
    "    \"event\",\n",
    "    \"lumiwgt\",  # luminosity in fb 26.6717 for 2022EE\n",
    "    \"xsecWeight\",  #  xsec * 1000 / sum('genEventSumw'), xsec in pb\n",
    "    \"genWeight\",\n",
    "    \"puWeight\",\n",
    "    \"trgSF_HLT_QuadPFJet70_50_40_35_PFBTagParticleNet_2BTagSum0p65_central\",\n",
    "    \"btagSF_central\",\n",
    "    \"passTrig_HLT_AK8PFJet250_SoftDropMass40_PFAK8ParticleNetBB0p35\",\n",
    "    \"passTrig_HLT_AK8PFJet425_SoftDropMass40\",\n",
    "]\n",
    "columns_to_load_boosted = columns_to_load_resolved + [\n",
    "    \"n_ak8\",\n",
    "    \"ak8_pt\",\n",
    "    \"ak8_eta\",\n",
    "    \"ak8_phi\",\n",
    "    \"ak8_jetId\",\n",
    "    \"ak8_msoftdrop\",\n",
    "    \"ak8_mass\",\n",
    "    \"ak8_tau3\",\n",
    "    \"ak8_tau2\",\n",
    "    \"ak8_Txbb\",\n",
    "    \"ak8_PQCDb\",\n",
    "    \"ak8_PQCDbb\",\n",
    "    \"ak8_PQCDothers\",\n",
    "    \"ak8_particleNet_mass\",\n",
    "    \"pass_resolved_skim\",  # trigger & >=4 jets with some pt cuts and >= 2 bjets above 30 GeV\n",
    "    \"pass_boosted_skim\",  # trigger & >=2  tight AK8 jets with pT > 250 GeV and |eta|<2.4\n",
    "    \"met\",\n",
    "]\n",
    "\n",
    "\"\"\"\n",
    "    2b: dHH_NbtagM == 2\n",
    "    4b: dHH_NbtagM == 4\n",
    "    asr_4b: ASR_4b\n",
    "    asr_2b: ASR_2b\n",
    "    acr_4b: ACR_4b\n",
    "    acr_2b: ACR_2b\n",
    "    vsr_4b: VSR_4b\n",
    "    vsr_2b: VSR_2b\n",
    "    vcr_4b: VCR_4b\n",
    "    vcr_2b: VCR_2b\n",
    "\"\"\"\n",
    "\n",
    "\n",
    "def get_resolved_masks(df):\n",
    "    regions = {}\n",
    "    regions[\"RES\"] = (\n",
    "        (df[\"passTrig_HLT_QuadPFJet70_50_40_35_PFBTagParticleNet_2BTagSum0p65\"])\n",
    "        & (df[\"passL1unprescaled_HLT_QuadPFJet70_50_40_35_PFBTagParticleNet_2BTagSum0p65\"])\n",
    "        & (df[\"passTrigObjMatching_HLT_QuadPFJet70_50_40_35_PFBTagParticleNet_2BTagSum0p65\"])\n",
    "        & (df[\"passmetfilters\"])\n",
    "        & (df[\"passjetvetomap\"])\n",
    "        & (df[\"avgbdisc_twoldgbdiscjets\"] > 0.65)\n",
    "        & (df[\"alljets_ht\"] > 0)\n",
    "    )\n",
    "\n",
    "    # Calculate variables\n",
    "    # df['AR_dHM'] = np.sqrt((df['dHH_H1_regmass'] - 125)**2 + (df['dHH_H2_regmass'] - 120)**2)\n",
    "    # df['VR_dHM'] = np.sqrt((df['dHH_H1_regmass'] - 185)**2 + (df['dHH_H2_regmass'] - 182)**2)\n",
    "    # Define additional regions based on these variables\n",
    "    # df['ASR_4b'] = (df['AR_dHM'] < 30) & (df['dHH_NbtagM'] == 4)\n",
    "    # df['ACR_4b'] = (df['AR_dHM'] >= 30) & (df['AR_dHM'] < 55) & (df['dHH_NbtagM'] == 4)\n",
    "    # df['VSR_4b'] = (df['VR_dHM'] < 30) & (df['dHH_NbtagM'] == 4)\n",
    "    # df['VCR_4b'] = (df['VR_dHM'] >= 30) & (df['VR_dHM'] < 55) & (df['dHH_NbtagM'] == 4)\n",
    "\n",
    "    df[\"dHiggsDeltaRegMass\"] = np.sqrt(\n",
    "        ((df[\"dHH_H1_regmass\"] - 125.0) * (df[\"dHH_H1_regmass\"] - 125.0))\n",
    "        + ((df[\"dHH_H2_regmass\"] - 120.0) * (df[\"dHH_H2_regmass\"] - 120.0))\n",
    "    )\n",
    "\n",
    "    regions = {\n",
    "        **regions,\n",
    "        \"RES4b\": (regions[\"RES\"] & (df[\"dHH_NbtagM\"] == 4)),\n",
    "        \"RES4bSR\": (regions[\"RES\"] & (df[\"dHiggsDeltaRegMass\"] < 30.0) & (df[\"dHH_NbtagM\"] == 4)),\n",
    "    }\n",
    "\n",
    "    return regions\n",
    "\n",
    "\n",
    "for sample, sample_file in samples.items():\n",
    "    print(f\"{dir}/{sample_file}\")\n",
    "    tree = uproot.open(f\"{dir}/{sample_file}:Events\")\n",
    "    print(\"Number of raw events: \", len(tree.arrays([\"event\"])[\"event\"]))\n",
    "    #########################################\n",
    "    # Load resolved data as a pandas DataFrame\n",
    "    df = tree.arrays(columns_to_load_resolved, library=\"pd\")\n",
    "    print(\"Number of resolved dataframe entries: \", len(df[\"event\"]))\n",
    "\n",
    "    # Weights\n",
    "    df[\"resolved_weight\"] = (\n",
    "        df[\"lumiwgt\"]\n",
    "        * df[\"xsecWeight\"]\n",
    "        * df[\"genWeight\"]\n",
    "        * df[\"puWeight\"]\n",
    "        * df[\"trgSF_HLT_QuadPFJet70_50_40_35_PFBTagParticleNet_2BTagSum0p65_central\"]\n",
    "        * df[\"btagSF_central\"]\n",
    "    )\n",
    "\n",
    "    # Define resolved regions\n",
    "    regions = get_resolved_masks(df)\n",
    "\n",
    "    # Get resolved yields and counts\n",
    "    resolved_yields = {\n",
    "        region: [np.sum(df[\"resolved_weight\"][region_mask])]\n",
    "        for region, region_mask in regions.items()\n",
    "    }\n",
    "    resolved_counts = {\n",
    "        region: int(df[\"event\"][region_mask].shape[0]) for region, region_mask in regions.items()\n",
    "    }\n",
    "\n",
    "    #########################################\n",
    "    # Load boosted data as a pandas DataFrame\n",
    "    df_b = tree.arrays(columns_to_load_boosted, library=\"pd\")\n",
    "    # Ask for at least 2 ak8 jets in boosted pandas dataframe\n",
    "    df_b = df_b[\n",
    "        (df_b[\"n_ak8\"] >= 2)\n",
    "        & (df_b[\"passmetfilters\"])\n",
    "        & (df_b[\"passjetvetomap\"])\n",
    "        & (\n",
    "            (df_b[\"passTrig_HLT_AK8PFJet250_SoftDropMass40_PFAK8ParticleNetBB0p35\"])\n",
    "            | (df_b[\"passTrig_HLT_AK8PFJet425_SoftDropMass40\"])\n",
    "        )\n",
    "    ].copy()\n",
    "    print(\"Number of boosted dataframe entries: \", len(df_b[\"event\"]))\n",
    "\n",
    "    # Add weights\n",
    "    df_b[\"boosted_weight\"] = (\n",
    "        df_b[\"lumiwgt\"] * df_b[\"xsecWeight\"] * df_b[\"genWeight\"] * df_b[\"puWeight\"]\n",
    "    )\n",
    "    df_b[\"resolved_weight\"] = (\n",
    "        df_b[\"lumiwgt\"]\n",
    "        * df_b[\"xsecWeight\"]\n",
    "        * df_b[\"genWeight\"]\n",
    "        * df_b[\"puWeight\"]\n",
    "        * df_b[\"trgSF_HLT_QuadPFJet70_50_40_35_PFBTagParticleNet_2BTagSum0p65_central\"]\n",
    "        * df_b[\"btagSF_central\"]\n",
    "    )\n",
    "\n",
    "    # Order jets by fatjet Xbb\n",
    "    df_ak8 = df_b.reset_index()\n",
    "    df_ak8 = df_ak8.sort_values(by=[\"entry\", \"ak8_Txbb\"], ascending=[True, False]).set_index(\n",
    "        [\"entry\", \"subentry\"]\n",
    "    )\n",
    "    subindex = df_ak8.sort_index().index.get_level_values(1)\n",
    "    df_ak8 = df_ak8.reset_index()\n",
    "    df_ak8[\"subentry\"] = subindex\n",
    "    df_ak8 = df_ak8.set_index([\"entry\", \"subentry\"])\n",
    "\n",
    "    # For boosted, yields must be obtained for one of the entries\n",
    "    jet0 = df_ak8.query(\"subentry == 0\")\n",
    "    jet1 = df_ak8.query(\"subentry == 1\")\n",
    "\n",
    "    # Define resolved regions for this dataframe\n",
    "    resolved_regions = {\n",
    "        **{f\"BST-{region}\": region_mask for region, region_mask in get_resolved_masks(jet0).items()}\n",
    "    }\n",
    "\n",
    "    # NOTE!!!: you must use .to_numpy() to get the masks with jet0 otherwise you cannot do an OR\n",
    "    boosted_regions = {\n",
    "        \"BST30060-X0bb08\": (\n",
    "            (jet0[\"ak8_pt\"] >= 300).to_numpy()\n",
    "            & (jet1[\"ak8_pt\"] >= 300).to_numpy()\n",
    "            & (jet0[\"ak8_msoftdrop\"] >= 60).to_numpy()\n",
    "            & (jet1[\"ak8_msoftdrop\"] >= 60).to_numpy()\n",
    "            & (jet0[\"ak8_Txbb\"] >= 0.8).to_numpy()\n",
    "        ),\n",
    "        \"BST25060-X0bb08\": (\n",
    "            (jet0[\"ak8_pt\"] >= 250).to_numpy()\n",
    "            & (jet1[\"ak8_pt\"] >= 250).to_numpy()\n",
    "            & (jet0[\"ak8_msoftdrop\"] >= 60).to_numpy()\n",
    "            & (jet1[\"ak8_msoftdrop\"] >= 60).to_numpy()\n",
    "            & (jet0[\"ak8_Txbb\"] >= 0.8).to_numpy()\n",
    "        ),\n",
    "    }\n",
    "\n",
    "    # compute overlap\n",
    "    overlap_regions = {\n",
    "        \"RES4b-BST30060-X0bb08\": (\n",
    "            resolved_regions[\"BST-RES4b\"] & boosted_regions[\"BST30060-X0bb08\"]\n",
    "        ),\n",
    "    }\n",
    "\n",
    "    boosted_yields = {\n",
    "        region: [np.sum(jet0[\"boosted_weight\"][region_mask])]\n",
    "        for region, region_mask in boosted_regions.items()\n",
    "    }\n",
    "    boosted_counts = {\n",
    "        region: int(jet0[\"event\"][region_mask].shape[0])\n",
    "        for region, region_mask in boosted_regions.items()\n",
    "    }\n",
    "\n",
    "    overlap_yields = {\n",
    "        region: [np.sum(jet0[\"resolved_weight\"][region_mask])]\n",
    "        for region, region_mask in overlap_regions.items()\n",
    "    }\n",
    "    overlap_counts = {\n",
    "        region: int(jet0[\"event\"][region_mask].shape[0])\n",
    "        for region, region_mask in overlap_regions.items()\n",
    "    }\n",
    "\n",
    "    # make yields and  counts dataframe\n",
    "    df_yields = pd.DataFrame(\n",
    "        {\n",
    "            \"sample\": \"hh4b\",\n",
    "            **resolved_yields,\n",
    "            **boosted_yields,\n",
    "            **overlap_yields,\n",
    "        }\n",
    "    )\n",
    "\n",
    "    df_counts = pd.DataFrame(\n",
    "        {\n",
    "            \"sample\": \"hh4b\",\n",
    "            \"all\": int(df[\"event\"].shape[0]),\n",
    "            **resolved_counts,\n",
    "            **boosted_counts,\n",
    "            **overlap_counts,\n",
    "        },\n",
    "        index=[0],\n",
    "    )"
   ]
  },
  {
   "cell_type": "code",
   "execution_count": 3,
   "metadata": {},
   "outputs": [
    {
     "name": "stdout",
     "output_type": "stream",
     "text": [
      "|    | sample   |     RES |   RES4b |   RES4bSR |   BST30060-X0bb08 |   BST25060-X0bb08 |   RES4b-BST30060-X0bb08 |\n",
      "|---:|:---------|--------:|--------:|----------:|------------------:|------------------:|------------------------:|\n",
      "|  0 | hh4b     | 68.2276 | 19.9474 |   13.2769 |            3.0976 |           4.15524 |                 1.22037 |\n"
     ]
    }
   ],
   "source": [
    "print(df_yields.to_markdown())  # percentage here"
   ]
  },
  {
   "cell_type": "code",
   "execution_count": 4,
   "metadata": {},
   "outputs": [
    {
     "name": "stdout",
     "output_type": "stream",
     "text": [
      "|    | sample   |     all |     RES |   RES4b |   RES4bSR |   BST30060-X0bb08 |   BST25060-X0bb08 |   RES4b-BST30060-X0bb08 |\n",
      "|---:|:---------|--------:|--------:|--------:|----------:|------------------:|------------------:|------------------------:|\n",
      "|  0 | hh4b     | 2377354 | 1741977 |  559983 |    385524 |             85355 |            113998 |                   39097 |\n"
     ]
    }
   ],
   "source": [
    "print(df_counts.to_markdown())"
   ]
  },
  {
   "cell_type": "code",
   "execution_count": 5,
   "metadata": {},
   "outputs": [
    {
     "data": {
      "text/plain": [
       "True"
      ]
     },
     "execution_count": 5,
     "metadata": {},
     "output_type": "execute_result"
    }
   ],
   "source": [
    "np.any(df[\"genWeight\"] < 0)"
   ]
  },
  {
   "cell_type": "markdown",
   "metadata": {},
   "source": [
    "Cross check yield with boosted ntuples"
   ]
  },
  {
   "cell_type": "code",
   "execution_count": 6,
   "metadata": {},
   "outputs": [
    {
     "data": {
      "text/plain": [
       "'\\nyear = \"2022EE\"\\n\\nsample_dirs = {\\n    f\"../../../../data/skimmer/24Apr23LegacyLowerThresholds_v12_private_signal/\": {\\n        \"hh4b_v12_private\": [\"GluGlutoHHto4B_kl-1p00_kt-1p00_c2-0p00_TuneCP5_13p6TeV\"],\\n    },\\n}\\n\\nload_columns = [\\n    (\"bbFatJetPNetTXbbLegacy\", 2),\\n    (\"bbFatJetPNetMassLegacy\", 2),\\n    (\"bbFatJetPNetTXbb\", 2),\\n    (\"bbFatJetPNetMass\", 2),\\n    (\"bbFatJetMsd\", 2),\\n    (\"bbFatJetPt\", 2),\\n    (\"weight\", 1),\\n    (\"trigger_sf\", 1),\\n    (\"AK8PFJet250_SoftDropMass40_PFAK8ParticleNetBB0p35\", 1),\\n    (\"AK8PFJet425_SoftDropMass40\", 1),\\n]\\n\\nevents_dict = {}\\nfor input_dir, samples_dict in sample_dirs.items():\\n    print(input_dir)\\n    events_dict = {\\n        **events_dict,\\n        # this function will load files (only the columns selected), apply filters and compute a weight per event\\n        **load_samples(\\n            input_dir,\\n            samples_dict,\\n            year,\\n            variations=False,\\n            columns=format_columns(load_columns),\\n            reorder_legacy_txbb=True,\\n        ),\\n    }\\n\\n\\nfor key in [\"hh4b_v12_private\"]:\\n    print(key)\\n    events = events_dict[key]\\n\\n    boosted_mask = (\\n        (events[\"bbFatJetPt\"][0] > 300)\\n        & (events[\"bbFatJetPt\"][1] > 300)\\n        & (events[\"bbFatJetPNetTXbb\"][0] > 0.8)\\n        & (events[\"bbFatJetMsd\"][0] > 60)\\n        & (events[\"bbFatJetMsd\"][1] > 60)\\n        & np.any(\\n            [\\n                events[\"AK8PFJet250_SoftDropMass40_PFAK8ParticleNetBB0p35\"],\\n                events[\"AK8PFJet425_SoftDropMass40\"],\\n            ]\\n        )\\n    )\\n    print(np.sum(events[\"finalWeight\"][boosted_mask]), len(events[\"finalWeight\"][boosted_mask]))\\n    '"
      ]
     },
     "execution_count": 6,
     "metadata": {},
     "output_type": "execute_result"
    }
   ],
   "source": [
    "\"\"\"\n",
    "year = \"2022EE\"\n",
    "\n",
    "sample_dirs = {\n",
    "    f\"../../../../data/skimmer/24Apr23LegacyLowerThresholds_v12_private_signal/\": {\n",
    "        \"hh4b_v12_private\": [\"GluGlutoHHto4B_kl-1p00_kt-1p00_c2-0p00_TuneCP5_13p6TeV\"],\n",
    "    },\n",
    "}\n",
    "\n",
    "load_columns = [\n",
    "    (\"bbFatJetPNetTXbbLegacy\", 2),\n",
    "    (\"bbFatJetPNetMassLegacy\", 2),\n",
    "    (\"bbFatJetPNetTXbb\", 2),\n",
    "    (\"bbFatJetPNetMass\", 2),\n",
    "    (\"bbFatJetMsd\", 2),\n",
    "    (\"bbFatJetPt\", 2),\n",
    "    (\"weight\", 1),\n",
    "    (\"trigger_sf\", 1),\n",
    "    (\"AK8PFJet250_SoftDropMass40_PFAK8ParticleNetBB0p35\", 1),\n",
    "    (\"AK8PFJet425_SoftDropMass40\", 1),\n",
    "]\n",
    "\n",
    "events_dict = {}\n",
    "for input_dir, samples_dict in sample_dirs.items():\n",
    "    print(input_dir)\n",
    "    events_dict = {\n",
    "        **events_dict,\n",
    "        # this fundction will load files (only the columns selected), apply filters and compute a weight per event\n",
    "        **load_samples(\n",
    "            input_dir,\n",
    "            samples_dict,\n",
    "            year,\n",
    "            variations=False,\n",
    "            columns=format_columns(load_columns),\n",
    "            reorder_legacy_txbb=True,\n",
    "        ),\n",
    "    }\n",
    "\n",
    "\n",
    "for key in [\"hh4b_v12_private\"]:\n",
    "    print(key)\n",
    "    events = events_dict[key]\n",
    "\n",
    "    boosted_mask = (\n",
    "        (events[\"bbFatJetPt\"][0] > 300)\n",
    "        & (events[\"bbFatJetPt\"][1] > 300)\n",
    "        & (events[\"bbFatJetPNetTXbb\"][0] > 0.8)\n",
    "        & (events[\"bbFatJetMsd\"][0] > 60)\n",
    "        & (events[\"bbFatJetMsd\"][1] > 60)\n",
    "        & np.any(\n",
    "            [\n",
    "                events[\"AK8PFJet250_SoftDropMass40_PFAK8ParticleNetBB0p35\"],\n",
    "                events[\"AK8PFJet425_SoftDropMass40\"],\n",
    "            ]\n",
    "        )\n",
    "    )\n",
    "    print(np.sum(events[\"finalWeight\"][boosted_mask]), len(events[\"finalWeight\"][boosted_mask]))\n",
    "    \"\"\""
   ]
  },
  {
   "cell_type": "code",
   "execution_count": 7,
   "metadata": {},
   "outputs": [],
   "source": [
    "# events[\"weight\"]"
   ]
  },
  {
   "cell_type": "code",
   "execution_count": 8,
   "metadata": {},
   "outputs": [
    {
     "name": "stdout",
     "output_type": "stream",
     "text": [
      "2.0.3\n"
     ]
    }
   ],
   "source": [
    "# run inference\n",
    "\n",
    "import xgboost as xgb\n",
    "from xgboost import XGBClassifier\n",
    "from sklearn.metrics import accuracy_score, roc_auc_score\n",
    "from sklearn.metrics import roc_curve, auc\n",
    "\n",
    "model_path = '\"/Users/daniel/Documents/UCSD/Research/HH4b/src/HH4b/boosted/bdt_trainings_run3/v1_msd30_nomulticlass'\n",
    "print(xgb.__version__)\n",
    "# Load Model\n",
    "bdt_model_name = \"v1_msd30_nomulticlass\"\n",
    "bdt_config = \"v1_msd30\"\n",
    "bdt_model = XGBClassifier()\n",
    "bdt_model.load_model(fname=f\"../boosted/bdt_trainings_run3/{bdt_model_name}/trained_bdt.model\")\n",
    "\n",
    "from resolved_config import bdt_dataframe_resolved\n",
    "\n",
    "# prepare data\n",
    "# dtest = bdt_dataframe_resolved(df[df_ak8])\n",
    "dtest = bdt_dataframe_resolved(df_ak8)\n",
    "y_test = np.ones(len(dtest))\n",
    "\n",
    "# Make predictions\n",
    "predictions = bdt_model.predict(dtest)\n",
    "probabilities = bdt_model.predict_proba(dtest)"
   ]
  },
  {
   "cell_type": "code",
   "execution_count": 9,
   "metadata": {},
   "outputs": [
    {
     "data": {
      "image/png": "[encoded data removed]",
      "text/plain": [
       "<Figure size 640x480 with 1 Axes>"
      ]
     },
     "metadata": {},
     "output_type": "display_data"
    }
   ],
   "source": [
    "# Evaluate the model\n",
    "accuracy = accuracy_score(y_test, predictions)\n",
    "# roc_auc = roc_auc_score(y_test, predictions)\n",
    "\n",
    "import matplotlib.pyplot as plt\n",
    "\n",
    "plt.hist(probabilities[:, 0], bins=50, alpha=0.75, color=\"blue\")\n",
    "plt.xlabel(\"BDT Score\")\n",
    "plt.ylabel(\"Frequency\")\n",
    "plt.title(\"Histogram of BDT Scores on Resolved Selection (v1_msd30_nomulticlass)\")\n",
    "plt.text(\n",
    "    x=0,\n",
    "    y=110000,\n",
    "    s=r\"Selection: at least two jets with $p_T > 250 GeV$, $|\\eta| < 2.4$ \",\n",
    "    fontsize=10,\n",
    "    color=\"black\",\n",
    ")\n",
    "plt.grid(True)\n",
    "plt.show()"
   ]
  },
  {
   "cell_type": "code",
   "execution_count": null,
   "metadata": {},
   "outputs": [],
   "source": [
    "# tree = uproot.open(f\"{dir}/{sample_file}:Events\")\n",
    "# tree.keys()"
   ]
  },
  {
   "cell_type": "code",
   "execution_count": 16,
   "metadata": {},
   "outputs": [
    {
     "name": "stdout",
     "output_type": "stream",
     "text": [
      "../../../../data/24May1HHNoSel_v12_pre-sel/\n",
      "Loaded GluGlutoHHto4B_kl-1p00_kt-1p00_c2-0p00_TuneCP5_13p6TeV: 1603025 entries\n",
      "hh4b_v12_private\n",
      "0.7421089388584927 20497\n"
     ]
    }
   ],
   "source": [
    "# verify that the boosted selection gives you the same yield\n",
    "# as if you were computing that yield with our own ntuples\n",
    "# first verify that the number of events (unweighted and weighted) is the same\n",
    "# then go applying selection by selection as you can\n",
    "\n",
    "# why are we using 24May1HHNoSel_v12_pre-sel? Selections seem to vary a lot between the studies\n",
    "# ------------------------------------------------------------------------------\n",
    "# first cross check raw number w/o mask\n",
    "# then nr. w/ weights w/o mask cross check with resolved\n",
    "# expect same ballpark\n",
    "# apply boosted sel, get counts & yield then compare those with resolved\n",
    "\n",
    "\n",
    "# next: new file from resolved that has discriminator (Feynnet)\n",
    "#\n",
    "\n",
    "# also reproduce wednesday plots with different masks\n",
    "\n",
    "year = \"2022EE\"\n",
    "\n",
    "sample_dirs = {\n",
    "    f\"../../../../data/24May1HHNoSel_v12_pre-sel/\": {\n",
    "        \"hh4b_v12_private\": [\"GluGlutoHHto4B_kl-1p00_kt-1p00_c2-0p00_TuneCP5_13p6TeV\"],\n",
    "    },\n",
    "}\n",
    "\n",
    "load_columns = [\n",
    "    # (\"bbFatJetPNetTXbbLegacy\", 2),\n",
    "    # \"bbFatJetPNetMassLegacy\", 2),\n",
    "    (\"bbFatJetPNetTXbb\", 2),\n",
    "    (\"bbFatJetPNetMass\", 2),\n",
    "    (\"bbFatJetMsd\", 2),\n",
    "    (\"bbFatJetPt\", 2),\n",
    "    (\"weight\", 1),\n",
    "    (\"trigger_sf\", 1),\n",
    "    (\"AK8PFJet250_SoftDropMass40_PFAK8ParticleNetBB0p35\", 1),\n",
    "    (\"AK8PFJet425_SoftDropMass40\", 1),\n",
    "]\n",
    "\n",
    "events_dict = {}\n",
    "for input_dir, samples_dict in sample_dirs.items():\n",
    "    print(input_dir)\n",
    "    events_dict = {\n",
    "        **events_dict,\n",
    "        # this function will load files (only the columns selected), apply filters and compute a weight per event\n",
    "        **load_samples(\n",
    "            input_dir,\n",
    "            samples_dict,\n",
    "            year,\n",
    "            variations=False,\n",
    "            columns=format_columns(load_columns),\n",
    "            reorder_legacy_txbb=False,\n",
    "        ),\n",
    "    }\n",
    "\n",
    "for key in [\"hh4b_v12_private\"]:\n",
    "    print(key)\n",
    "    events = events_dict[key]\n",
    "\n",
    "    boosted_mask = (\n",
    "        (events[\"bbFatJetPt\"][0] > 300)\n",
    "        & (events[\"bbFatJetPt\"][1] > 300)\n",
    "        & (events[\"bbFatJetPNetTXbb\"][0] > 0.8)\n",
    "        & (events[\"bbFatJetMsd\"][0] > 60)\n",
    "        & (events[\"bbFatJetMsd\"][1] > 60)\n",
    "        & np.any(\n",
    "            [\n",
    "                events[\"AK8PFJet250_SoftDropMass40_PFAK8ParticleNetBB0p35\"],\n",
    "                events[\"AK8PFJet425_SoftDropMass40\"],\n",
    "            ]\n",
    "        )\n",
    "    )\n",
    "    # print raw event number\n",
    "    events\n",
    "\n",
    "    \"\"\"\n",
    "    for sample, sample_file in samples.items():\n",
    "    print(f\"{dir}/{sample_file}\")\n",
    "    tree = uproot.open(f\"{dir}/{sample_file}:Events\")\n",
    "    print(\"Number of raw events: \", len(tree.arrays([\"event\"])[\"event\"]))\n",
    "    #########################################\n",
    "    # Load resolved data as a pandas DataFrame\n",
    "    df = tree.arrays(columns_to_load_resolved, library=\"pd\")\n",
    "    print(\"Number of resolved dataframe entries: \", len(df[\"event\"]))\n",
    "\n",
    "    # Weights\n",
    "    df[\"resolved_weight\"] = (\n",
    "        df[\"lumiwgt\"]\n",
    "        * df[\"xsecWeight\"]\n",
    "        * df[\"genWeight\"]\n",
    "        * df[\"puWeight\"]\n",
    "        * df[\"trgSF_HLT_QuadPFJet70_50_40_35_PFBTagParticleNet_2BTagSum0p65_central\"]\n",
    "        * df[\"btagSF_central\"]\n",
    "    )\n",
    "    \"\"\""
   ]
  },
  {
   "cell_type": "code",
   "execution_count": 20,
   "metadata": {},
   "outputs": [
    {
     "data": {
      "text/plain": [
       "20497"
      ]
     },
     "execution_count": 20,
     "metadata": {},
     "output_type": "execute_result"
    }
   ],
   "source": [
    "boosted_events = events[boosted_mask]\n",
    "len(boosted_events)"
   ]
  },
  {
   "cell_type": "code",
   "execution_count": null,
   "metadata": {},
   "outputs": [],
   "source": [
    "# Correlation between Feynet and BDT\n",
    "# Feynnet is from resolved group?\n",
    "# check Marina pres\n",
    "\n",
    "# find what labels are used\n",
    "\n",
    "# load dataframe df\n",
    "# add BDT score as a column to the data frame\n",
    "\n",
    "correlation_matrix = df[[\"Feynnet_Score\", \"BDT_Score\"]].corr()  # TODO: adjust labels\n",
    "\n",
    "plt.figure(figsize=(10, 6))\n",
    "plt.scatter(df[\"Feynnet_Score\"], df[\"BDT_Score\"], alpha=0.5)\n",
    "plt.title(\"Correlation between Feynnet and BDT Scores\")\n",
    "plt.xlabel(\"Feynnet Score\")\n",
    "plt.ylabel(\"BDT Score\")\n",
    "plt.grid(True)\n",
    "plt.show()"
   ]
  }
 ],
 "metadata": {
  "kernelspec": {
   "display_name": "coffea",
   "language": "python",
   "name": "python3"
  },
  "language_info": {
   "codemirror_mode": {
    "name": "ipython",
    "version": 3
   },
   "file_extension": ".py",
   "mimetype": "text/x-python",
   "name": "python",
   "nbconvert_exporter": "python",
   "pygments_lexer": "ipython3",
   "version": "3.9.17"
  },
  "orig_nbformat": 4
 },
 "nbformat": 4,
 "nbformat_minor": 2
}
